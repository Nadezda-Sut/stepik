{
  "nbformat": 4,
  "nbformat_minor": 0,
  "metadata": {
    "colab": {
      "provenance": [],
      "authorship_tag": "ABX9TyNB217t3pUuJiSO49rcCEtN",
      "include_colab_link": true
    },
    "kernelspec": {
      "name": "python3",
      "display_name": "Python 3"
    },
    "language_info": {
      "name": "python"
    }
  },
  "cells": [
    {
      "cell_type": "markdown",
      "metadata": {
        "id": "view-in-github",
        "colab_type": "text"
      },
      "source": [
        "<a href=\"https://colab.research.google.com/github/Nadezda-Sut/stepik/blob/main/Diagonal_exchange.ipynb\" target=\"_parent\"><img src=\"https://colab.research.google.com/assets/colab-badge.svg\" alt=\"Open In Colab\"/></a>"
      ]
    },
    {
      "cell_type": "code",
      "execution_count": 3,
      "metadata": {
        "colab": {
          "base_uri": "https://localhost:8080/"
        },
        "id": "LyEziQRn93kT",
        "outputId": "37ea1d24-9564-49c3-be1b-57afa484738d"
      },
      "outputs": [
        {
          "output_type": "stream",
          "name": "stdout",
          "text": [
            "3\n",
            "1 2 3\n",
            "4 5 6\n",
            "7 8 9\n",
            "7 2 9\n",
            "4 5 6\n",
            "1 8 3\n",
            "\n"
          ]
        }
      ],
      "source": [
        "n = int(input())\n",
        "m = []\n",
        "for i in range(n):\n",
        "    temp = [int(num) for num in input().split()]\n",
        "    m.append(temp)\n",
        "for i in range(n):\n",
        "    m[i][i],m[n - i - 1][i]=m[n - i - 1][i],m[i][i]\n",
        "for i in m:\n",
        "    print(*i)"
      ]
    }
  ]
}