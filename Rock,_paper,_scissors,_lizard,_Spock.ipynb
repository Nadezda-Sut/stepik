{
  "nbformat": 4,
  "nbformat_minor": 0,
  "metadata": {
    "colab": {
      "provenance": [],
      "authorship_tag": "ABX9TyNpMYZoxUT5FyS7JEsglicp"
    },
    "kernelspec": {
      "name": "python3",
      "display_name": "Python 3"
    },
    "language_info": {
      "name": "python"
    }
  },
  "cells": [
    {
      "cell_type": "code",
      "source": [
        "t = input()\n",
        "r = input()\n",
        "m = ['ножницы', 'бумага', 'камень', 'ящерица', 'Спок', 'ножницы', 'бумага', 'камень','ящерица','Спок']\n",
        "for i in range(len(m)):\n",
        "    if t == m[i] and (r == m[i + 1] or r == m[i - 2]):\n",
        "        print('Тимур')\n",
        "        break\n",
        "    elif t == m[i] and r == m[i]:\n",
        "        print('ничья')\n",
        "        break\n",
        "    elif t == m[i] and (r == m[i - 1] or r == m[i + 2]):\n",
        "        print('Руслан')\n",
        "        break"
      ],
      "metadata": {
        "colab": {
          "base_uri": "https://localhost:8080/"
        },
        "id": "j_Vsga19AhDv",
        "outputId": "04a47316-d470-4cd9-9b69-884a810d9154"
      },
      "execution_count": 1,
      "outputs": [
        {
          "output_type": "stream",
          "name": "stdout",
          "text": [
            "ножницы\n",
            "Спок\n",
            "Руслан\n"
          ]
        }
      ]
    }
  ]
}