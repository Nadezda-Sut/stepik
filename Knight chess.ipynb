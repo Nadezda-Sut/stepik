{
  "nbformat": 4,
  "nbformat_minor": 0,
  "metadata": {
    "colab": {
      "provenance": [],
      "authorship_tag": "ABX9TyOmbzzhiKR1ZCiun5pFCHWD",
      "include_colab_link": true
    },
    "kernelspec": {
      "name": "python3",
      "display_name": "Python 3"
    },
    "language_info": {
      "name": "python"
    }
  },
  "cells": [
    {
      "cell_type": "markdown",
      "metadata": {
        "id": "view-in-github",
        "colab_type": "text"
      },
      "source": [
        "<a href=\"https://colab.research.google.com/github/Nadezda-Sut/stepik/blob/main/Knight%20chess.ipynb\" target=\"_parent\"><img src=\"https://colab.research.google.com/assets/colab-badge.svg\" alt=\"Open In Colab\"/></a>"
      ]
    },
    {
      "cell_type": "code",
      "execution_count": 1,
      "metadata": {
        "colab": {
          "base_uri": "https://localhost:8080/"
        },
        "id": "82d-8TITsR3Q",
        "outputId": "1e9ba8bb-9a03-4001-85cc-164e316ce18c"
      },
      "outputs": [
        {
          "output_type": "stream",
          "name": "stdout",
          "text": [
            "* . * . . . . .\n",
            ". . . * . . . .\n",
            ". N . . . . . .\n",
            ". . . * . . . .\n",
            "* . * . . . . .\n",
            ". . . . . . . .\n",
            ". . . . . . . .\n",
            ". . . . . . . .\n"
          ]
        }
      ],
      "source": [
        "import string\n",
        "c = 'b6'\n",
        "a = 10 - int(c[1])\n",
        "let = ['', '']\n",
        "for i in string.ascii_lowercase:\n",
        "  let.append(i)\n",
        "  if i == 'h':\n",
        "    break\n",
        "b = let.index(c[0])\n",
        "n = 12\n",
        "m = [['.'] * n for _ in range(n)]\n",
        "for i in range(12):\n",
        "  for j in range(12):\n",
        "    if i == a - 1 and (j == b - 2 or j == b + 2):\n",
        "      m[i][j] = '*'\n",
        "    if i == a + 1 and (j == b - 2 or j == b + 2):\n",
        "      m[i][j] = '*'\n",
        "    if i == a - 2 and (j == b - 1 or j == b + 1):\n",
        "      m[i][j] = '*'\n",
        "    if i == a + 2 and (j == b - 1 or j == b + 1):\n",
        "      m[i][j] = '*'\n",
        "    if i == a and j == b:\n",
        "      m[i][j] = 'N'\n",
        "for i in range(2,10):\n",
        "  print(*m[i][2:10])\n",
        "\n",
        "\n",
        "\n"
      ]
    }
  ]
}