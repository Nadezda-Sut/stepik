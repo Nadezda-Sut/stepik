{
  "nbformat": 4,
  "nbformat_minor": 0,
  "metadata": {
    "colab": {
      "provenance": [],
      "authorship_tag": "ABX9TyNNJjbVeiyjTDaCgw/Qik2N"
    },
    "kernelspec": {
      "name": "python3",
      "display_name": "Python 3"
    },
    "language_info": {
      "name": "python"
    }
  },
  "cells": [
    {
      "cell_type": "code",
      "execution_count": null,
      "metadata": {
        "id": "A06i7duRVH9V"
      },
      "outputs": [],
      "source": [
        "t = input()\n",
        "r = input()\n",
        "m = ['ножницы', 'бумага', 'камень', 'ножницы', 'бумага', 'камень']\n",
        "for i in range(len(m)):\n",
        "    if t == m[i] and r == m[i + 1]:\n",
        "        print('Тимур')\n",
        "        break\n",
        "    elif t == m[i] and r == m[i]:\n",
        "        print('ничья')\n",
        "        break\n",
        "    elif t == m[i] and r == m[i - 1]:\n",
        "        print('Руслан')\n",
        "        break"
      ]
    }
  ]
}