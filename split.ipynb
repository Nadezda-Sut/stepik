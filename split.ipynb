{
  "nbformat": 4,
  "nbformat_minor": 0,
  "metadata": {
    "colab": {
      "provenance": [],
      "authorship_tag": "ABX9TyO3SEpvZMylNlr2HJwaiRXp",
      "include_colab_link": true
    },
    "kernelspec": {
      "name": "python3",
      "display_name": "Python 3"
    },
    "language_info": {
      "name": "python"
    }
  },
  "cells": [
    {
      "cell_type": "markdown",
      "metadata": {
        "id": "view-in-github",
        "colab_type": "text"
      },
      "source": [
        "<a href=\"https://colab.research.google.com/github/Nadezda-Sut/stepik/blob/main/split.ipynb\" target=\"_parent\"><img src=\"https://colab.research.google.com/assets/colab-badge.svg\" alt=\"Open In Colab\"/></a>"
      ]
    },
    {
      "cell_type": "markdown",
      "source": [
        "This algorithm replaces the function **split**"
      ],
      "metadata": {
        "id": "DtrsxSfSwZ5T"
      }
    },
    {
      "cell_type": "code",
      "execution_count": 6,
      "metadata": {
        "colab": {
          "base_uri": "https://localhost:8080/"
        },
        "id": "fldyEr3Ka_c6",
        "outputId": "ce79f9d0-1072-4490-d82f-a0d729f455be"
      },
      "outputs": [
        {
          "output_type": "stream",
          "name": "stdout",
          "text": [
            "a s d f g\n",
            "\n",
            "\n",
            "['a', 's', 'd', 'f', 'g']\n"
          ]
        }
      ],
      "source": [
        "import string\n",
        "\n",
        "a = input()\n",
        "sep = input()\n",
        "maxsplit = input()\n",
        "alf_dig = string.ascii_letters + string.digits\n",
        "b = ''\n",
        "c = []\n",
        "if maxsplit == '0' or maxsplit == '':\n",
        "  maxsplit = -1\n",
        "else:\n",
        "  maxsplit = int(maxsplit)\n",
        "if sep == '':\n",
        "  sep = ' '\n",
        "counter = 0\n",
        "while len(a) > 0:\n",
        "  if a[0] in alf_dig:\n",
        "    b += a[0]\n",
        "    a = a[1:]\n",
        "    if len(a) == 0:\n",
        "      c.append(b)\n",
        "  elif a[0:len(sep)] == sep and len(b) != 0:\n",
        "    c.append(b)\n",
        "    b = ''\n",
        "    a = a[len(sep):]\n",
        "    maxsplit -= 1\n",
        "    if maxsplit == 0:\n",
        "      if len(b) != 0:\n",
        "        c.append(b)\n",
        "      if len(a) != 0:\n",
        "        c.append(a)\n",
        "      break\n",
        "  elif a[0:len(sep)] == sep and len(b) == 0:\n",
        "    a = a[len(sep):]\n",
        "    maxsplit -= 1\n",
        "    if maxsplit == 0:\n",
        "      if len(b) != 0:\n",
        "        c.append(b)\n",
        "      if len(a) != 0:\n",
        "        c.append(a)\n",
        "      break\n",
        "\n",
        "print(c)\n"
      ]
    }
  ]
}