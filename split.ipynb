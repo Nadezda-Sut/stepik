{
  "nbformat": 4,
  "nbformat_minor": 0,
  "metadata": {
    "colab": {
      "provenance": [],
      "authorship_tag": "ABX9TyNno++2N3B5ACnE4njBl4ck",
      "include_colab_link": true
    },
    "kernelspec": {
      "name": "python3",
      "display_name": "Python 3"
    },
    "language_info": {
      "name": "python"
    }
  },
  "cells": [
    {
      "cell_type": "markdown",
      "metadata": {
        "id": "view-in-github",
        "colab_type": "text"
      },
      "source": [
        "<a href=\"https://colab.research.google.com/github/Nadezda-Sut/stepik/blob/main/split.ipynb\" target=\"_parent\"><img src=\"https://colab.research.google.com/assets/colab-badge.svg\" alt=\"Open In Colab\"/></a>"
      ]
    },
    {
      "cell_type": "markdown",
      "source": [
        "This algorithm replaces the function **split**"
      ],
      "metadata": {
        "id": "DtrsxSfSwZ5T"
      }
    },
    {
      "cell_type": "code",
      "execution_count": 86,
      "metadata": {
        "colab": {
          "base_uri": "https://localhost:8080/"
        },
        "id": "fldyEr3Ka_c6",
        "outputId": "f51931f1-1130-4b98-cffc-dccaa4433c67"
      },
      "outputs": [
        {
          "output_type": "stream",
          "name": "stdout",
          "text": [
            "set;:;:23\n",
            ";:\n",
            "1\n",
            "['set', ';:23']\n"
          ]
        }
      ],
      "source": [
        "import string\n",
        "\n",
        "a = input().strip()\n",
        "sep = input()\n",
        "maxsplit = input()\n",
        "alf_dig = string.ascii_letters + string.digits\n",
        "b = ''\n",
        "c = []\n",
        "if maxsplit == '':\n",
        "  maxsplit = -1\n",
        "elif maxsplit != '0':\n",
        "  maxsplit = int(maxsplit)\n",
        "if sep == '':\n",
        "  sep = ' '\n",
        "flag = True\n",
        "while len(a) > 0:\n",
        "  if maxsplit == '0':\n",
        "    c = [a]\n",
        "    break\n",
        "  if a[0] in alf_dig:\n",
        "    b += a[0]\n",
        "    a = a[1:]\n",
        "    flag = False\n",
        "    if len(a) == 0:\n",
        "      c.append(b)\n",
        "  elif a[0:len(sep)] == sep and len(b) != 0:\n",
        "    c.append(b)\n",
        "    b = ''\n",
        "    a = a[len(sep):]\n",
        "    if len(a) == 0:\n",
        "      c.append('')\n",
        "    flag = True\n",
        "    maxsplit -= 1\n",
        "    if maxsplit == 0:\n",
        "      if len(b) != 0:\n",
        "        c.append(b)\n",
        "      if len(a) != 0:\n",
        "        c.append(a.strip())\n",
        "      break\n",
        "  elif a[0:len(sep)] == sep and len(b) == 0:\n",
        "    a = a[len(sep):]\n",
        "    if flag and sep != ' ':\n",
        "      c.append('')\n",
        "    if sep != ' ':\n",
        "      maxsplit -= 1\n",
        "    if maxsplit == 0:\n",
        "      if len(a) != 0:\n",
        "        c.append(a)\n",
        "      break\n",
        "\n",
        "print(c)\n"
      ]
    }
  ]
}