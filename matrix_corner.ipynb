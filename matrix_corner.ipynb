{
  "nbformat": 4,
  "nbformat_minor": 0,
  "metadata": {
    "colab": {
      "provenance": [],
      "authorship_tag": "ABX9TyMBW1zeNIBIz87Mr4AU8AZG",
      "include_colab_link": true
    },
    "kernelspec": {
      "name": "python3",
      "display_name": "Python 3"
    },
    "language_info": {
      "name": "python"
    }
  },
  "cells": [
    {
      "cell_type": "markdown",
      "metadata": {
        "id": "view-in-github",
        "colab_type": "text"
      },
      "source": [
        "<a href=\"https://colab.research.google.com/github/Nadezda-Sut/stepik/blob/main/matrix_corner.ipynb\" target=\"_parent\"><img src=\"https://colab.research.google.com/assets/colab-badge.svg\" alt=\"Open In Colab\"/></a>"
      ]
    },
    {
      "cell_type": "code",
      "execution_count": 2,
      "metadata": {
        "colab": {
          "base_uri": "https://localhost:8080/"
        },
        "id": "ZzXOie5mKUFX",
        "outputId": "2aa6c734-f09b-4e95-c63c-b2732a7d33a5"
      },
      "outputs": [
        {
          "output_type": "stream",
          "name": "stdout",
          "text": [
            "3\n",
            "1 4 5\n",
            "6 7 8\n",
            "1 1 6\n",
            "7\n"
          ]
        }
      ],
      "source": [
        "# Find the largest element of the lower left corner of a matrix\n",
        "n = int(input())\n",
        "m = []\n",
        "for i in range(n):\n",
        "    m.append(max([int(j) for j in input().split()[:i+1]]))\n",
        "print(max(m))"
      ]
    }
  ]
}