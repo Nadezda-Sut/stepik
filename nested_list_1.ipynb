{
  "nbformat": 4,
  "nbformat_minor": 0,
  "metadata": {
    "colab": {
      "provenance": [],
      "authorship_tag": "ABX9TyPF92zaikV3udxE25sVMsE4"
    },
    "kernelspec": {
      "name": "python3",
      "display_name": "Python 3"
    },
    "language_info": {
      "name": "python"
    }
  },
  "cells": [
    {
      "cell_type": "code",
      "execution_count": 37,
      "metadata": {
        "colab": {
          "base_uri": "https://localhost:8080/"
        },
        "id": "E1mrir91pi4Q",
        "outputId": "0c71f614-0802-45d8-d091-6970cc4048be"
      },
      "outputs": [
        {
          "output_type": "stream",
          "name": "stdout",
          "text": [
            "g i v e t h h i i s m a a a n a g u u n\n",
            "[['g'], ['i'], ['v'], ['e'], ['t'], ['h', 'h'], ['i', 'i'], ['s'], ['m'], ['a', 'a', 'a'], ['n'], ['a'], ['g'], ['u', 'u'], ['n']]\n"
          ]
        }
      ],
      "source": [
        "m = input().split()\n",
        "n = [[m[0]]]\n",
        "for i in range(1,len(m)):\n",
        "  if m[i] == m[i - 1]:\n",
        "    n[-1].append(m[i])\n",
        "  else:\n",
        "    n.append([m[i]])\n",
        "print(n)"
      ]
    }
  ]
}