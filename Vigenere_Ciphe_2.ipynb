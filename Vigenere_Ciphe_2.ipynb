{
  "nbformat": 4,
  "nbformat_minor": 0,
  "metadata": {
    "colab": {
      "provenance": [],
      "authorship_tag": "ABX9TyM3MBoJD3LrlUqyJBvrn4m0",
      "include_colab_link": true
    },
    "kernelspec": {
      "name": "python3",
      "display_name": "Python 3"
    },
    "language_info": {
      "name": "python"
    }
  },
  "cells": [
    {
      "cell_type": "markdown",
      "metadata": {
        "id": "view-in-github",
        "colab_type": "text"
      },
      "source": [
        "<a href=\"https://colab.research.google.com/github/Nadezda-Sut/stepik/blob/main/Vigenere_Ciphe_2.ipynb\" target=\"_parent\"><img src=\"https://colab.research.google.com/assets/colab-badge.svg\" alt=\"Open In Colab\"/></a>"
      ]
    },
    {
      "cell_type": "code",
      "source": [
        "n = 'Sgd fqzrr hr zkvzxr fqddmdq nm sgd nsgdq rhcd ne sgd edmbd.' \n",
        "m = '' \n",
        "up_ru = 'ABCDEFGHIJKLMNOPQRSTUVWXYZABCDEFGHIJKLMNOPQRSTUVWXYZ' \n",
        "lo_ru = 'abcdefghijklmnopqrstuvwxyzabcdefghijklmnopqrstuvwxyz' \n",
        "for i in range(len(n)): \n",
        "  if n[i] in up_ru : \n",
        "    s = up_ru.find(n[i])\n",
        "    m += up_ru[s + 26 - 25] \n",
        "  elif n[i] in lo_ru: \n",
        "    s = lo_ru.find(n[i]) \n",
        "    m += lo_ru[s + 26 - 25] \n",
        "  else: \n",
        "    m += n[i] \n",
        "print(m)"
      ],
      "metadata": {
        "colab": {
          "base_uri": "https://localhost:8080/"
        },
        "id": "yTZriKPElsA7",
        "outputId": "193e97c6-ae89-4dbe-9fef-66b9296fd60c"
      },
      "execution_count": 74,
      "outputs": [
        {
          "output_type": "stream",
          "name": "stdout",
          "text": [
            "The grass is always greener on the other side of the fence.\n"
          ]
        }
      ]
    }
  ]
}