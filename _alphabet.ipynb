{
  "nbformat": 4,
  "nbformat_minor": 0,
  "metadata": {
    "colab": {
      "provenance": [],
      "authorship_tag": "ABX9TyNsKHxfBEhVnP97euYFNT8P"
    },
    "kernelspec": {
      "name": "python3",
      "display_name": "Python 3"
    },
    "language_info": {
      "name": "python"
    }
  },
  "cells": [
    {
      "cell_type": "code",
      "source": [
        "alph = chr(97)\n",
        "end = ['st', 'nd', 'rd']\n",
        "for i in range(26):\n",
        "  if 2 < i < 20:\n",
        "    end.append('th')\n",
        "  if 19 < i < 21:\n",
        "    last = ['st', 'nd', 'rd', 'th', 'th', 'th']\n",
        "    end.extend(last)\n",
        "    \n",
        "  alph = chr(97 + i)\n",
        "  print('%s is the %g%s letter of the alphabet'%(alph, i + 1, end[i]))"
      ],
      "metadata": {
        "colab": {
          "base_uri": "https://localhost:8080/"
        },
        "id": "WV4NwbvFhvLq",
        "outputId": "dc4c7498-2830-412c-b0ac-98b046905eec"
      },
      "execution_count": null,
      "outputs": [
        {
          "output_type": "stream",
          "name": "stdout",
          "text": [
            "a is the 1st letter of the alphabet\n",
            "b is the 2nd letter of the alphabet\n",
            "c is the 3rd letter of the alphabet\n",
            "d is the 4th letter of the alphabet\n",
            "e is the 5th letter of the alphabet\n",
            "f is the 6th letter of the alphabet\n",
            "g is the 7th letter of the alphabet\n",
            "h is the 8th letter of the alphabet\n",
            "i is the 9th letter of the alphabet\n",
            "j is the 10th letter of the alphabet\n",
            "k is the 11th letter of the alphabet\n",
            "l is the 12th letter of the alphabet\n",
            "m is the 13th letter of the alphabet\n",
            "n is the 14th letter of the alphabet\n",
            "o is the 15th letter of the alphabet\n",
            "p is the 16th letter of the alphabet\n",
            "q is the 17th letter of the alphabet\n",
            "r is the 18th letter of the alphabet\n",
            "s is the 19th letter of the alphabet\n",
            "t is the 20th letter of the alphabet\n",
            "u is the 21st letter of the alphabet\n",
            "v is the 22nd letter of the alphabet\n",
            "w is the 23rd letter of the alphabet\n",
            "x is the 24th letter of the alphabet\n",
            "y is the 25th letter of the alphabet\n",
            "z is the 26th letter of the alphabet\n"
          ]
        }
      ]
    }
  ]
}