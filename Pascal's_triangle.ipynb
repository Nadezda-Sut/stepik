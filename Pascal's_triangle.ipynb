{
  "nbformat": 4,
  "nbformat_minor": 0,
  "metadata": {
    "colab": {
      "provenance": [],
      "authorship_tag": "ABX9TyNDkwBK8Igg/TIB7vIqPx51",
      "include_colab_link": true
    },
    "kernelspec": {
      "name": "python3",
      "display_name": "Python 3"
    },
    "language_info": {
      "name": "python"
    }
  },
  "cells": [
    {
      "cell_type": "markdown",
      "metadata": {
        "id": "view-in-github",
        "colab_type": "text"
      },
      "source": [
        "<a href=\"https://colab.research.google.com/github/Nadezda-Sut/stepik/blob/main/Pascal's_triangle.ipynb\" target=\"_parent\"><img src=\"https://colab.research.google.com/assets/colab-badge.svg\" alt=\"Open In Colab\"/></a>"
      ]
    },
    {
      "cell_type": "code",
      "source": [
        "def pascal(n):\n",
        "    m = [[1,1]]\n",
        "    for j in range(n - 1):\n",
        "        m.append([1])\n",
        "        for i in range(j + 1):\n",
        "            m[j + 1].append(m[j][i] + m[j][i+1])\n",
        "        m[j + 1].extend([1])\n",
        "    g = [[1]]\n",
        "    g.extend(m)\n",
        "    print(g[n])\n",
        "\n",
        "n = int(input())\n",
        "\n",
        "pascal(n)"
      ],
      "metadata": {
        "colab": {
          "base_uri": "https://localhost:8080/"
        },
        "id": "I0tWbe9GTaU6",
        "outputId": "065247a9-256e-4c57-b143-35fcd606ce18"
      },
      "execution_count": 73,
      "outputs": [
        {
          "output_type": "stream",
          "name": "stdout",
          "text": [
            "3\n",
            "[1, 3, 3, 1]\n"
          ]
        }
      ]
    }
  ]
}