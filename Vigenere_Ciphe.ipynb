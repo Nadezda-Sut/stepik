{
  "nbformat": 4,
  "nbformat_minor": 0,
  "metadata": {
    "colab": {
      "provenance": [],
      "authorship_tag": "ABX9TyNFKnE90gJzu1chqSMgwns/"
    },
    "kernelspec": {
      "name": "python3",
      "display_name": "Python 3"
    },
    "language_info": {
      "name": "python"
    }
  },
  "cells": [
    {
      "cell_type": "code",
      "source": [
        "n = 'my name is Python!'\n",
        "m = ''\n",
        "d = []\n",
        "total = []\n",
        "a = n.split()\n",
        "up_en = 'ABCDEFGHIJKLMNOPQRSTUVWXYZABCDEFGHIJKLMNOPQRSTUVWXYZ' \n",
        "lo_en = 'abcdefghijklmnopqrstuvwxyzabcdefghijklmnopqrstuvwxyz' \n",
        "for i in a:\n",
        "  counter = 0\n",
        "  for j in i:\n",
        "    if j in up_en or j in lo_en:\n",
        "      counter += 1\n",
        "  d.append(counter)\n",
        "for i in range(len(a)):\n",
        "  m = ''\n",
        "  for j in a[i]:\n",
        "    if j in up_en:\n",
        "      s = up_en.find(j)\n",
        "      m += up_en[s + d[i]]\n",
        "    if j in lo_en:\n",
        "      s = lo_en.find(j)\n",
        "      m += lo_en[s + d[i]]\n",
        "    if j not in up_en and j not in lo_en:\n",
        "      m += j\n",
        "  total.append(m)\n",
        "print(*total)"
      ],
      "metadata": {
        "colab": {
          "base_uri": "https://localhost:8080/"
        },
        "id": "zANixGonSO2L",
        "outputId": "d52da456-cad4-4092-ef57-2458bb3b4993"
      },
      "execution_count": 71,
      "outputs": [
        {
          "output_type": "stream",
          "name": "stdout",
          "text": [
            "oa reqi ku Veznut!\n"
          ]
        }
      ]
    }
  ]
}