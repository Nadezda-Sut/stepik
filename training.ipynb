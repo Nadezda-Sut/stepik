{
  "nbformat": 4,
  "nbformat_minor": 0,
  "metadata": {
    "colab": {
      "provenance": [],
      "authorship_tag": "ABX9TyPmfcYsXdegUKEbRz6j1Kt0",
      "include_colab_link": true
    },
    "kernelspec": {
      "name": "python3",
      "display_name": "Python 3"
    },
    "language_info": {
      "name": "python"
    }
  },
  "cells": [
    {
      "cell_type": "markdown",
      "metadata": {
        "id": "view-in-github",
        "colab_type": "text"
      },
      "source": [
        "<a href=\"https://colab.research.google.com/github/Nadezda-Sut/stepik/blob/main/training.ipynb\" target=\"_parent\"><img src=\"https://colab.research.google.com/assets/colab-badge.svg\" alt=\"Open In Colab\"/></a>"
      ]
    },
    {
      "cell_type": "code",
      "execution_count": 19,
      "metadata": {
        "colab": {
          "base_uri": "https://localhost:8080/"
        },
        "id": "UnQ7d6RLjOS8",
        "outputId": "70f82b7b-8e7c-4f19-a143-72b578e555d2"
      },
      "outputs": [
        {
          "output_type": "stream",
          "name": "stdout",
          "text": [
            "5\n"
          ]
        }
      ],
      "source": [
        "n = int(input())\n",
        "counter_5 = 0\n",
        "counter_check = 0\n",
        "m = [int(i) for i in input().split(' ')]\n",
        "for i in range(len(m) - 7):\n",
        "  if i == 3 or i == 2:\n",
        "    continue\n",
        "  for j in range(1,8):\n",
        "    if m[i + j] == 3 or m[i + j] == 2:\n",
        "      counter_check = 0\n",
        "      break\n",
        "    if m[i + j] == 5:\n",
        "      counter_check += 1\n",
        "  if counter_check > counter_5:\n",
        "    counter_5 = counter_check\n",
        "  if counter_5 == 7:\n",
        "    print(7)\n",
        "    break\n",
        "  counter_check = 0\n",
        "if counter_5 < 7 and counter_5 != 0:\n",
        "  print(counter_5)\n",
        "if counter_5 == 0:\n",
        "  print(-1)\n",
        "\n",
        "\n",
        "\n"
      ]
    },
    {
      "cell_type": "code",
      "source": [
        "q = [int(i) for i in input().split(' ')]\n",
        "n = q[0]\n",
        "m = q[1]\n",
        "arr = []\n",
        "for i in range(n):\n",
        "    temp = [int(num) for num in input().split()]\n",
        "    arr.append(temp)\n",
        "s = []\n",
        "for j in range(m):\n",
        "    for i in range(n - 1,-1,-1):\n",
        "        s.append(arr[i][j])\n",
        "for i in range(0,n*m,n):\n",
        "    print(*s[i:i+n])\n"
      ],
      "metadata": {
        "colab": {
          "base_uri": "https://localhost:8080/"
        },
        "id": "iNML8EW9uH7x",
        "outputId": "3d4d9ac3-2816-48df-81d8-dfbf5c390679"
      },
      "execution_count": 47,
      "outputs": [
        {
          "output_type": "stream",
          "name": "stdout",
          "text": [
            "1 1\n",
            "69\n",
            "69\n"
          ]
        }
      ]
    },
    {
      "cell_type": "code",
      "source": [
        "\n",
        "\n"
      ],
      "metadata": {
        "id": "DNP9uV7t5qfH"
      },
      "execution_count": null,
      "outputs": []
    },
    {
      "cell_type": "code",
      "source": [
        "names = ['Gvido', 'Roman' , 'Timur']\n",
        "position = names.index('Timur')\n",
        "print(position)\n",
        "names = ['Gvido', 'Roman' , 'Timur']\n",
        "names.insert(names.index('Timur'), 'Anders')\n",
        "print(names)"
      ],
      "metadata": {
        "colab": {
          "base_uri": "https://localhost:8080/"
        },
        "id": "msm3Ky3DOWIA",
        "outputId": "43006b90-3e67-4450-d885-7bb922da4f26"
      },
      "execution_count": 55,
      "outputs": [
        {
          "output_type": "stream",
          "name": "stdout",
          "text": [
            "2\n",
            "['Gvido', 'Roman', 'Anders', 'Timur']\n"
          ]
        }
      ]
    },
    {
      "cell_type": "code",
      "source": [
        "n = int(input())\n",
        "arr = []\n",
        "for i in range(n):\n",
        "    temp = [symbol for symbol in input().split()]\n",
        "    arr.append(temp)\n",
        "print(arr)\n",
        "for i in range(n):\n",
        "  if j in range(3):\n",
        "    if\n"
      ],
      "metadata": {
        "colab": {
          "base_uri": "https://localhost:8080/"
        },
        "id": "en3WWDLNDgwK",
        "outputId": "d38d2c1b-c781-4622-cefd-fa25fa89f92d"
      },
      "execution_count": 52,
      "outputs": [
        {
          "output_type": "stream",
          "name": "stdout",
          "text": [
            "3\n",
            "W.W\n",
            "C.C\n",
            "WW.\n",
            "[['W.W'], ['C.C'], ['WW.']]\n"
          ]
        }
      ]
    },
    {
      "cell_type": "code",
      "source": [
        "n = int(input())\n",
        "m = []\n",
        "[m.append(input().split('/')) for _ in range(n)]\n",
        "m.sort(key=len)\n",
        "q = m[0]\n",
        "for i in range(len(m)):\n",
        "  for j in range(len(m[i])):\n",
        "\n",
        "\n",
        "\n",
        "\n"
      ],
      "metadata": {
        "colab": {
          "base_uri": "https://localhost:8080/",
          "height": 292
        },
        "id": "GGgyQFNISLce",
        "outputId": "59909662-e39f-43ae-e8aa-01d3e0593e95"
      },
      "execution_count": 70,
      "outputs": [
        {
          "name": "stdout",
          "output_type": "stream",
          "text": [
            "3\n",
            "root/a\n",
            "root/a/b\n",
            "root/c/x\n"
          ]
        },
        {
          "output_type": "error",
          "ename": "TypeError",
          "evalue": "'str' object does not support item assignment",
          "traceback": [
            "\u001b[0;31m---------------------------------------------------------------------------\u001b[0m",
            "\u001b[0;31mTypeError\u001b[0m                                 Traceback (most recent call last)",
            "\u001b[0;32m<ipython-input-70-ad791cba0fbf>\u001b[0m in \u001b[0;36m<cell line: 6>\u001b[0;34m()\u001b[0m\n\u001b[1;32m      7\u001b[0m   \u001b[0;32mfor\u001b[0m \u001b[0mj\u001b[0m \u001b[0;32min\u001b[0m \u001b[0mrange\u001b[0m\u001b[0;34m(\u001b[0m\u001b[0mlen\u001b[0m\u001b[0;34m(\u001b[0m\u001b[0mq\u001b[0m\u001b[0;34m)\u001b[0m\u001b[0;34m)\u001b[0m\u001b[0;34m:\u001b[0m\u001b[0;34m\u001b[0m\u001b[0;34m\u001b[0m\u001b[0m\n\u001b[1;32m      8\u001b[0m     \u001b[0;32mif\u001b[0m \u001b[0mq\u001b[0m\u001b[0;34m[\u001b[0m\u001b[0mj\u001b[0m\u001b[0;34m]\u001b[0m \u001b[0;32min\u001b[0m \u001b[0mm\u001b[0m\u001b[0;34m[\u001b[0m\u001b[0mi\u001b[0m\u001b[0;34m]\u001b[0m\u001b[0;34m:\u001b[0m\u001b[0;34m\u001b[0m\u001b[0;34m\u001b[0m\u001b[0m\n\u001b[0;32m----> 9\u001b[0;31m       \u001b[0mq\u001b[0m\u001b[0;34m[\u001b[0m\u001b[0mi\u001b[0m\u001b[0;34m]\u001b[0m \u001b[0;34m=\u001b[0m \u001b[0mm\u001b[0m\u001b[0;34m[\u001b[0m\u001b[0mi\u001b[0m\u001b[0;34m]\u001b[0m\u001b[0;34m\u001b[0m\u001b[0;34m\u001b[0m\u001b[0m\n\u001b[0m\u001b[1;32m     10\u001b[0m     \u001b[0;32melse\u001b[0m\u001b[0;34m:\u001b[0m\u001b[0;34m\u001b[0m\u001b[0;34m\u001b[0m\u001b[0m\n\u001b[1;32m     11\u001b[0m       \u001b[0mq\u001b[0m\u001b[0;34m.\u001b[0m\u001b[0mappend\u001b[0m\u001b[0;34m(\u001b[0m\u001b[0mm\u001b[0m\u001b[0;34m[\u001b[0m\u001b[0mi\u001b[0m\u001b[0;34m]\u001b[0m\u001b[0;34m)\u001b[0m\u001b[0;34m\u001b[0m\u001b[0;34m\u001b[0m\u001b[0m\n",
            "\u001b[0;31mTypeError\u001b[0m: 'str' object does not support item assignment"
          ]
        }
      ]
    },
    {
      "cell_type": "code",
      "source": [
        "# Предполагается, что пути уже заданы в списке\n",
        "paths = [\n",
        "    \"root/a\",\n",
        "    \"root/a/b\",\n",
        "    \"root/c/x\",\n",
        "    \"root/a/b/c\",\n",
        "    \"root\",\n",
        "    \"root/c\"\n",
        "]\n",
        "\n",
        "# Создаем корневой словарь для дерева директорий\n",
        "root = {}\n",
        "\n",
        "# Построение дерева директорий\n",
        "for path in paths:\n",
        "    parts = path.split('/')\n",
        "    node = root\n",
        "    for part in parts:\n",
        "        if part not in node:\n",
        "            node[part] = {}\n",
        "        node = node[part]\n",
        "\n",
        "# Вспомогательная переменная для рекурсивного вывода дерева\n",
        "def print_tree(node, depth=0):\n",
        "    keys = sorted(node.keys())\n",
        "    for key in keys:\n",
        "        print('  ' * depth + key)\n",
        "        print_tree(node[key], depth + 1)\n",
        "\n",
        "# Начинаем печать с корневой директории\n",
        "print_tree(root)\n"
      ],
      "metadata": {
        "colab": {
          "base_uri": "https://localhost:8080/"
        },
        "id": "cQbf9LBDgCzu",
        "outputId": "08ac73f3-c815-4baf-c5a7-b960d22e57c5"
      },
      "execution_count": 71,
      "outputs": [
        {
          "output_type": "stream",
          "name": "stdout",
          "text": [
            "root\n",
            "  a\n",
            "    b\n",
            "      c\n",
            "  c\n",
            "    x\n"
          ]
        }
      ]
    },
    {
      "cell_type": "code",
      "source": [
        "# Предполагается, что пути уже заданы в списке\n",
        "paths = [\n",
        "    \"root/a\",\n",
        "    \"root/a/b\",\n",
        "    \"root/c/x\",\n",
        "    \"root/a/b/c\",\n",
        "    \"root\",\n",
        "    \"root/c\"\n",
        "]\n",
        "\n",
        "# Сортируем пути для упрощения создания структуры\n",
        "paths.sort()\n",
        "\n",
        "# Создаем и выводим структуру\n",
        "last_parts = []\n",
        "for path in paths:\n",
        "    parts = path.split('/')\n",
        "    # Определяем уровень вложенности для правильного отступа\n",
        "    for i in range(len(parts)):\n",
        "        if i >= len(last_parts) or parts[i] != last_parts[i]:\n",
        "            print('  ' * i + parts[i])\n",
        "    last_parts = parts\n"
      ],
      "metadata": {
        "colab": {
          "base_uri": "https://localhost:8080/"
        },
        "id": "VZ31Pqf5g7JC",
        "outputId": "f2d3f2c2-56e3-4f66-e762-478816da47f2"
      },
      "execution_count": 72,
      "outputs": [
        {
          "output_type": "stream",
          "name": "stdout",
          "text": [
            "root\n",
            "  a\n",
            "    b\n",
            "      c\n",
            "  c\n",
            "    x\n"
          ]
        }
      ]
    },
    {
      "cell_type": "code",
      "source": [
        "n = int(input())\n",
        "direct = [input() for _ in range(n)]\n",
        "direct.sort()\n",
        "last_parts = []\n",
        "for path in direct:\n",
        "    parts = path.split('/')\n",
        "    length = 0\n",
        "    for i in range(min(len(parts), len(last_parts))):\n",
        "        if parts[i] == last_parts[i]:\n",
        "            length += 1\n",
        "        else:\n",
        "            break\n",
        "    for i in range(length, len(parts)):\n",
        "        print('  ' * i + parts[i])\n",
        "    last_parts = parts\n"
      ],
      "metadata": {
        "colab": {
          "base_uri": "https://localhost:8080/"
        },
        "id": "EgAJturMhvFD",
        "outputId": "6701f9b1-6331-489b-c664-dcc40bd43466"
      },
      "execution_count": 75,
      "outputs": [
        {
          "output_type": "stream",
          "name": "stdout",
          "text": [
            "3\n",
            "f/a/b\n",
            "f/a\n",
            "f/c/s\n",
            "f\n",
            "  a\n",
            "    b\n",
            "  c\n",
            "    s\n"
          ]
        }
      ]
    }
  ]
}