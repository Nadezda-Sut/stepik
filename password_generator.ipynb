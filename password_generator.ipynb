{
  "nbformat": 4,
  "nbformat_minor": 0,
  "metadata": {
    "colab": {
      "provenance": [],
      "authorship_tag": "ABX9TyNpIqZWhwpiFiK7Jcvtp2id"
    },
    "kernelspec": {
      "name": "python3",
      "display_name": "Python 3"
    },
    "language_info": {
      "name": "python"
    }
  },
  "cells": [
    {
      "cell_type": "code",
      "execution_count": 7,
      "metadata": {
        "colab": {
          "base_uri": "https://localhost:8080/"
        },
        "id": "PtouH_Ww4y1_",
        "outputId": "6c9d0e09-9e4f-4b9a-96fb-545e98ffb97b"
      },
      "outputs": [
        {
          "output_type": "stream",
          "name": "stdout",
          "text": [
            "Сколько паролей хотете ввести?2\n",
            "Будете ли вставлять цифры 0123456789 в пароль?да\n",
            "Будете ли включать прописные буквы ABCDEFGHIJKLMNOPQRSTUVWXYZ?да\n",
            "Будете ли включать строчные буквы abcdefghijklmnopqrstuvwxyz?да\n",
            "Будете ли включать символы !#$%&*+-=?@^_?нет\n",
            "Будете ли включать неоднозначные символы il1Lo0O?нет\n",
            "Какова длинна вашего пароля?6\n",
            "9Su83f\n",
            "Какова длинна вашего пароля?2\n",
            "NE\n"
          ]
        }
      ],
      "source": [
        "import random as r\n",
        "d = ['23456789', 'ABCDEFGHIJKMNPQRSTUVWXYZ', 'abcdefghjkmnpqrstuvwxyz', '!#$%&*+-=?@^_.', 'il1Lo0O']\n",
        "chars = ''\n",
        "q = ['Будете ли вставлять цифры 0123456789 в пароль?', 'Будете ли включать прописные буквы ABCDEFGHIJKLMNOPQRSTUVWXYZ?',\n",
        "     'Будете ли включать строчные буквы abcdefghijklmnopqrstuvwxyz?', 'Будете ли включать символы !#$%&*+-=?@^_?',\n",
        "     'Будете ли включать неоднозначные символы il1Lo0O?']\n",
        "am = int(input('Сколько паролей хотете ввести?'))\n",
        "for i in range(len(q)):\n",
        "  if input(q[i]).lower() == 'да':\n",
        "    chars += d[i]\n",
        "def generate_password(l,ch):\n",
        "  return r.sample(ch, l)\n",
        "for _ in range(am):\n",
        "  leng = int(input('Какова длинна вашего пароля?'))\n",
        "  print(*generate_password(leng,chars), sep = '')\n",
        "\n"
      ]
    },
    {
      "cell_type": "code",
      "source": [],
      "metadata": {
        "id": "Km4_ccIUFjLU"
      },
      "execution_count": null,
      "outputs": []
    }
  ]
}