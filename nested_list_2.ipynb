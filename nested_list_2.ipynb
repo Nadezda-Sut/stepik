{
  "nbformat": 4,
  "nbformat_minor": 0,
  "metadata": {
    "colab": {
      "provenance": [],
      "authorship_tag": "ABX9TyNGvn4xmVzmlqNEo6B/BT7C",
      "include_colab_link": true
    },
    "kernelspec": {
      "name": "python3",
      "display_name": "Python 3"
    },
    "language_info": {
      "name": "python"
    }
  },
  "cells": [
    {
      "cell_type": "markdown",
      "metadata": {
        "id": "view-in-github",
        "colab_type": "text"
      },
      "source": [
        "<a href=\"https://colab.research.google.com/github/Nadezda-Sut/stepik/blob/main/nested_list_2.ipynb\" target=\"_parent\"><img src=\"https://colab.research.google.com/assets/colab-badge.svg\" alt=\"Open In Colab\"/></a>"
      ]
    },
    {
      "cell_type": "code",
      "execution_count": 2,
      "metadata": {
        "colab": {
          "base_uri": "https://localhost:8080/"
        },
        "id": "157NCAjJ9SZ4",
        "outputId": "d3398e7f-10b1-4b2c-e0dc-d017ff94d4dd"
      },
      "outputs": [
        {
          "output_type": "stream",
          "name": "stdout",
          "text": [
            "a b c d e f \n",
            "[[], ['a'], ['b'], ['c'], ['d'], ['e'], ['f'], ['a', 'b'], ['b', 'c'], ['c', 'd'], ['d', 'e'], ['e', 'f'], ['a', 'b', 'c'], ['b', 'c', 'd'], ['c', 'd', 'e'], ['d', 'e', 'f'], ['a', 'b', 'c', 'd'], ['b', 'c', 'd', 'e'], ['c', 'd', 'e', 'f'], ['a', 'b', 'c', 'd', 'e'], ['b', 'c', 'd', 'e', 'f'], ['a', 'b', 'c', 'd', 'e', 'f']]\n"
          ]
        }
      ],
      "source": [
        "m = input().split()\n",
        "n = [[]]\n",
        "[n.append([m[i]]) for i in range(len(m))]\n",
        "for i in range(2, len(m) + 1):\n",
        "  for j in range(len(m) + 1):\n",
        "    if len(m) - i >= j:\n",
        "      n.append(m[j:j+i])\n",
        "print(n)"
      ]
    }
  ]
}