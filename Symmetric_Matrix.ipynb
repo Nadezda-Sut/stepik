{
  "nbformat": 4,
  "nbformat_minor": 0,
  "metadata": {
    "colab": {
      "provenance": [],
      "authorship_tag": "ABX9TyMxJn498M6bJypZqLXTItGv"
    },
    "kernelspec": {
      "name": "python3",
      "display_name": "Python 3"
    },
    "language_info": {
      "name": "python"
    }
  },
  "cells": [
    {
      "cell_type": "code",
      "execution_count": 2,
      "metadata": {
        "colab": {
          "base_uri": "https://localhost:8080/"
        },
        "id": "A1gcx2xevDEu",
        "outputId": "5fcce51f-2c43-435d-e183-3ab84d0753df"
      },
      "outputs": [
        {
          "output_type": "stream",
          "name": "stdout",
          "text": [
            "5\n",
            "5 3 7 1 5\n",
            "3 5 4 5 7\n",
            "7 4 4 8 4\n",
            "1 5 8 5 1\n",
            "5 7 4 1 5\n",
            "YES\n"
          ]
        }
      ],
      "source": [
        "n = int(input())\n",
        "m = []\n",
        "for i in range(n):\n",
        "    temp = [int(num) for num in input().split()]\n",
        "    m.append(temp)\n",
        "counter = 0\n",
        "for i in range(n):\n",
        "    for j in range(i+1,n):\n",
        "        if m[i][j] == m[j][i] and i < j:\n",
        "            counter +=1\n",
        "if counter == int((n**2/2)-n/2):\n",
        "    print('YES')\n",
        "else:\n",
        "    print('NO')"
      ]
    }
  ]
}